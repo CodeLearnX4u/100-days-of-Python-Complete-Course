{
  "nbformat": 4,
  "nbformat_minor": 0,
  "metadata": {
    "colab": {
      "name": "Day_02.ipynb",
      "provenance": [],
      "authorship_tag": "ABX9TyO+OuNYlgXCm3hw8QXn6ZIh",
      "include_colab_link": true
    },
    "kernelspec": {
      "name": "python3",
      "display_name": "Python 3"
    },
    "language_info": {
      "name": "python"
    }
  },
  "cells": [
    {
      "cell_type": "markdown",
      "metadata": {
        "id": "view-in-github",
        "colab_type": "text"
      },
      "source": [
        "<a href=\"https://colab.research.google.com/github/CodeLearnX4u/100-days-of-Python-Complete-Course/blob/main/Day_02.ipynb\" target=\"_parent\"><img src=\"https://colab.research.google.com/assets/colab-badge.svg\" alt=\"Open In Colab\"/></a>"
      ]
    },
    {
      "cell_type": "code",
      "execution_count": null,
      "metadata": {
        "id": "cyhHJBGBXIQG"
      },
      "outputs": [],
      "source": [
        "# Day (02) of 100 days of python complete course bt CodeLearnX"
      ]
    },
    {
      "cell_type": "code",
      "source": [
        "print(\"Welcome to day (02) of 100 days of python complete course by CodeLearnX\")"
      ],
      "metadata": {
        "id": "ni7DcMQzXTEI",
        "outputId": "f9226134-b6e7-4da2-fe84-b06480d447f6",
        "colab": {
          "base_uri": "https://localhost:8080/"
        }
      },
      "execution_count": 1,
      "outputs": [
        {
          "output_type": "stream",
          "name": "stdout",
          "text": [
            "Welcome to day (02) of 100 days of python complete course by CodeLearnX\n"
          ]
        }
      ]
    },
    {
      "cell_type": "code",
      "source": [
        ""
      ],
      "metadata": {
        "id": "ceJ-ViVUXv_i"
      },
      "execution_count": null,
      "outputs": []
    }
  ]
}