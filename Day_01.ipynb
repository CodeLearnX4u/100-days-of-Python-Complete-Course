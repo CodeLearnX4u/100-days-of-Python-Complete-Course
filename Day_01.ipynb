{
  "nbformat": 4,
  "nbformat_minor": 0,
  "metadata": {
    "colab": {
      "name": "Day_01.ipynb",
      "provenance": [],
      "collapsed_sections": [],
      "authorship_tag": "ABX9TyOhWp7TZ7adZeRhlOmlTM8+",
      "include_colab_link": true
    },
    "kernelspec": {
      "name": "python3",
      "display_name": "Python 3"
    },
    "language_info": {
      "name": "python"
    }
  },
  "cells": [
    {
      "cell_type": "markdown",
      "metadata": {
        "id": "view-in-github",
        "colab_type": "text"
      },
      "source": [
        "<a href=\"https://colab.research.google.com/github/CodeLearnX4u/100-days-of-Python-Complete-Course/blob/main/Day_01.ipynb\" target=\"_parent\"><img src=\"https://colab.research.google.com/assets/colab-badge.svg\" alt=\"Open In Colab\"/></a>"
      ]
    },
    {
      "cell_type": "markdown",
      "source": [
        "# Day (01) of 100 Days of Complete Python Course by CodeLearnX\n",
        "### All about Print Function in Python.\n"
      ],
      "metadata": {
        "id": "j7frb-B65UTr"
      }
    },
    {
      "cell_type": "code",
      "execution_count": null,
      "metadata": {
        "colab": {
          "base_uri": "https://localhost:8080/"
        },
        "id": "9cPHuO8W3u-c",
        "outputId": "05f13133-f3b4-471c-8b7c-5217df560e5a"
      },
      "outputs": [
        {
          "output_type": "stream",
          "name": "stdout",
          "text": [
            "Welcome to CodeLearnX\n"
          ]
        }
      ],
      "source": [
        "print(\"Welcome to CodeLearnX\")"
      ]
    },
    {
      "cell_type": "code",
      "source": [
        "print(6,True)"
      ],
      "metadata": {
        "colab": {
          "base_uri": "https://localhost:8080/"
        },
        "id": "6EhpgdV533kN",
        "outputId": "e2377499-5204-4080-a101-73e819554157"
      },
      "execution_count": null,
      "outputs": [
        {
          "output_type": "stream",
          "name": "stdout",
          "text": [
            "6 True\n"
          ]
        }
      ]
    },
    {
      "cell_type": "code",
      "source": [
        "print(\"India\",\"Pakistan\",\"SriLanka\")"
      ],
      "metadata": {
        "colab": {
          "base_uri": "https://localhost:8080/"
        },
        "id": "fc6tOBFi4IA7",
        "outputId": "d0e1d116-71c8-4497-b574-54df8eb9f58b"
      },
      "execution_count": null,
      "outputs": [
        {
          "output_type": "stream",
          "name": "stdout",
          "text": [
            "India Pakistan SriLanka\n"
          ]
        }
      ]
    },
    {
      "cell_type": "code",
      "source": [
        "print(\"Do you want to Accept the challenge.\")"
      ],
      "metadata": {
        "id": "7ypkN0tD4QG_",
        "colab": {
          "base_uri": "https://localhost:8080/"
        },
        "outputId": "ec261234-1519-4a24-ddbb-b30d401b8217"
      },
      "execution_count": null,
      "outputs": [
        {
          "output_type": "stream",
          "name": "stdout",
          "text": [
            "Do you want to Accept the challenge.\n"
          ]
        }
      ]
    },
    {
      "cell_type": "code",
      "source": [
        "print(\"Type Yes if you accept the challenge.\")"
      ],
      "metadata": {
        "id": "o9euW9WxAJei",
        "colab": {
          "base_uri": "https://localhost:8080/"
        },
        "outputId": "1030aba0-5a3a-483e-b52f-a48d986e2422"
      },
      "execution_count": null,
      "outputs": [
        {
          "output_type": "stream",
          "name": "stdout",
          "text": [
            "Type Yes if you accept the challenge.\n"
          ]
        }
      ]
    },
    {
      "cell_type": "code",
      "source": [
        "print(\"Checking for the new fork\")"
      ],
      "metadata": {
        "id": "r_jviYZcFRBy",
        "colab": {
          "base_uri": "https://localhost:8080/"
        },
        "outputId": "2a0c5560-73b5-47f0-d771-e1e65cc0c1f9"
      },
      "execution_count": null,
      "outputs": [
        {
          "output_type": "stream",
          "name": "stdout",
          "text": [
            "Checking for the new fork\n"
          ]
        }
      ]
    },
    {
      "cell_type": "code",
      "source": [
        "print(\"Fork is Working Fine.\")"
      ],
      "metadata": {
        "id": "0FuStX-oOjoe",
        "colab": {
          "base_uri": "https://localhost:8080/"
        },
        "outputId": "d76ce448-e12b-41ae-8003-f547e3fe4cc9"
      },
      "execution_count": null,
      "outputs": [
        {
          "output_type": "stream",
          "name": "stdout",
          "text": [
            "Fork is Working Fine.\n"
          ]
        }
      ]
    },
    {
      "cell_type": "code",
      "source": [
        ""
      ],
      "metadata": {
        "id": "M9fQJOV8UKPI"
      },
      "execution_count": null,
      "outputs": []
    },
    {
      "cell_type": "markdown",
      "source": [
        "<h1>This Notebook is created and maintained by <a href=\"https://www.youtube.com/channel/UCc9nYMzfIWS-Sj4Crz-0jmA\">CodeLearnX</a></h1>\n",
        "<h3>Following things you can do with this notebook and associated video:---></h3>\n",
        "\n",
        "\n",
        "*   If you have any query in this notebook you can refer the video. Link is provided below.\n",
        "*   You can edit this notebook in your own local space as per your need.\n",
        "*   You can share it with your friends and the needy ones.\n",
        "*   You can subscribe to the youtube channel for future updates.\n",
        "*   You can Like, Comment and Share the video.\n",
        "\n",
        "\n",
        "<h3>How to Submit the Coding Challenge:----></h3>\n",
        "\n",
        "*   First write the code for each Task and run it on your notebook.\n",
        "*   Click on Shre button at top right of your notebook and copy the url.\n",
        "*   Click on the video link below and share your url in the video comment section.\n",
        "\n",
        "Video Link: \n",
        "\n",
        "\n",
        "\n"
      ],
      "metadata": {
        "id": "KMlWbIyvXNWo"
      }
    },
    {
      "cell_type": "code",
      "source": [
        ""
      ],
      "metadata": {
        "id": "GKdk-Ammfr8D"
      },
      "execution_count": null,
      "outputs": []
    }
  ]
}