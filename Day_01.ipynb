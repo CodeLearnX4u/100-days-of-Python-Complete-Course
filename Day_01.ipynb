{
  "nbformat": 4,
  "nbformat_minor": 0,
  "metadata": {
    "colab": {
      "name": "Day_01.ipynb",
      "provenance": [],
      "collapsed_sections": [],
      "authorship_tag": "ABX9TyOj2k0asgmAIW/2hOA+eG4h",
      "include_colab_link": true
    },
    "kernelspec": {
      "name": "python3",
      "display_name": "Python 3"
    },
    "language_info": {
      "name": "python"
    }
  },
  "cells": [
    {
      "cell_type": "markdown",
      "metadata": {
        "id": "view-in-github",
        "colab_type": "text"
      },
      "source": [
        "<a href=\"https://colab.research.google.com/github/CodeLearnX4u/100-days-of-Python-Complete-Course/blob/main/Day_01.ipynb\" target=\"_parent\"><img src=\"https://colab.research.google.com/assets/colab-badge.svg\" alt=\"Open In Colab\"/></a>"
      ]
    },
    {
      "cell_type": "markdown",
      "source": [
        "# Day (01) of 100 Days of Complete Python Course by CodeLearnX\n",
        "### All about Print Function in Python.\n"
      ],
      "metadata": {
        "id": "j7frb-B65UTr"
      }
    },
    {
      "cell_type": "code",
      "execution_count": null,
      "metadata": {
        "colab": {
          "base_uri": "https://localhost:8080/"
        },
        "id": "9cPHuO8W3u-c",
        "outputId": "05f13133-f3b4-471c-8b7c-5217df560e5a"
      },
      "outputs": [
        {
          "output_type": "stream",
          "name": "stdout",
          "text": [
            "Welcome to CodeLearnX\n"
          ]
        }
      ],
      "source": [
        "print(\"Welcome to CodeLearnX\")"
      ]
    },
    {
      "cell_type": "code",
      "source": [
        "print(6,True)"
      ],
      "metadata": {
        "colab": {
          "base_uri": "https://localhost:8080/"
        },
        "id": "6EhpgdV533kN",
        "outputId": "e2377499-5204-4080-a101-73e819554157"
      },
      "execution_count": null,
      "outputs": [
        {
          "output_type": "stream",
          "name": "stdout",
          "text": [
            "6 True\n"
          ]
        }
      ]
    },
    {
      "cell_type": "code",
      "source": [
        "print(\"India\",\"Pakistan\",\"SriLanka\")"
      ],
      "metadata": {
        "colab": {
          "base_uri": "https://localhost:8080/"
        },
        "id": "fc6tOBFi4IA7",
        "outputId": "d0e1d116-71c8-4497-b574-54df8eb9f58b"
      },
      "execution_count": null,
      "outputs": [
        {
          "output_type": "stream",
          "name": "stdout",
          "text": [
            "India Pakistan SriLanka\n"
          ]
        }
      ]
    },
    {
      "cell_type": "code",
      "source": [
        "print(\"Do you want to Accept the challenge.\")"
      ],
      "metadata": {
        "id": "7ypkN0tD4QG_",
        "colab": {
          "base_uri": "https://localhost:8080/"
        },
        "outputId": "ec261234-1519-4a24-ddbb-b30d401b8217"
      },
      "execution_count": null,
      "outputs": [
        {
          "output_type": "stream",
          "name": "stdout",
          "text": [
            "Do you want to Accept the challenge.\n"
          ]
        }
      ]
    },
    {
      "cell_type": "code",
      "source": [
        "print(\"Type Yes if you accept the challenge.\")"
      ],
      "metadata": {
        "id": "o9euW9WxAJei"
      },
      "execution_count": null,
      "outputs": []
    },
    {
      "cell_type": "code",
      "source": [
        "print(\"Checking for the new fork\")"
      ],
      "metadata": {
        "id": "r_jviYZcFRBy"
      },
      "execution_count": null,
      "outputs": []
    },
    {
      "cell_type": "code",
      "source": [
        ""
      ],
      "metadata": {
        "id": "0FuStX-oOjoe"
      },
      "execution_count": null,
      "outputs": []
    }
  ]
}